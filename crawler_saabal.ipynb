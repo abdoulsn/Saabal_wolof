{
 "cells": [
  {
   "cell_type": "code",
   "execution_count": 1,
   "metadata": {},
   "outputs": [],
   "source": [
    "## Py version 3.7 \n",
    "## author abdoulaye"
   ]
  },
  {
   "cell_type": "code",
   "execution_count": 9,
   "metadata": {},
   "outputs": [],
   "source": [
    "from utils import *\n",
    "from functions import *"
   ]
  },
  {
   "cell_type": "markdown",
   "metadata": {},
   "source": [
    "### In this notebook I'll scrape data based on categoy news in Wolof.\n",
    "- Each category news has multiple article\n",
    "- Each article has title, text, and tag (category of news)\n"
   ]
  },
  {
   "cell_type": "markdown",
   "metadata": {},
   "source": [
    "We'll start by pulling all links in each `category`"
   ]
  },
  {
   "cell_type": "markdown",
   "metadata": {},
   "source": [
    "## 1.0 Crawler and Scraper task"
   ]
  },
  {
   "cell_type": "code",
   "execution_count": 3,
   "metadata": {},
   "outputs": [],
   "source": [
    "base_url = 'https://saabal.com'\n",
    "def parse_url(url):\n",
    "    page = requests.get(url).text\n",
    "    return bs(page)"
   ]
  },
  {
   "cell_type": "code",
   "execution_count": 4,
   "metadata": {},
   "outputs": [
    {
     "data": {
      "text/plain": [
       "['https://saabal.com/ndax-yalla-moo-nu-teg-nattu-walla-sunug-nangoo-nuy-lor-mengaleel-dundug-doomi-reewum-libaan-ci-senegaal-ak-dundug-doomi-senegaal-ca-libaan/',\n",
       " 'https://saabal.com/liy-firndeel-ne-yaqub-lakku-wolof-a-gen-a-ganjaru-bob-faranse/',\n",
       " 'https://saabal.com/tenub-lewopool-ii-di-raykatu-nit-bu-mag-jot-na-wallam/',\n",
       " 'https://saabal.com/xoolal-rekk-ni-ko-alkaati-yi-raye%f0%9f%98%a2/',\n",
       " 'https://saabal.com/mbas-maa-ngi-seqi-ay-jeego-ci-afrig/',\n",
       " 'https://saabal.com/metiital-gi-nuy-def-doomi-afrig-yi-ca-guwansu/',\n",
       " 'https://saabal.com/lu-epp-juroom-neent-fukk-junnii-90-000i-nit-dee-nanu-ci-addina-si/',\n",
       " 'https://saabal.com/askanu-faraas-noo-ngay-jure-porter-plainte-seen-njiitu-reew-ma/',\n",
       " 'https://saabal.com/donaal-teremp-dal-na-ci-mbootaay-gi-yor-wer-gi-yaram-ci-addina-bi/',\n",
       " 'https://saabal.com/koronaawiris-baa-ngay-jeexal-nit-nu-nuul-na-ca-amerig/']"
      ]
     },
     "execution_count": 4,
     "metadata": {},
     "output_type": "execute_result"
    }
   ],
   "source": [
    "# 1. Links crawler\n",
    "\n",
    "all_links = []  \n",
    "# Récup liens de categories\n",
    "def get_urls(base_url):\n",
    "    # category_page = requests.get(base_url).text\n",
    "    # category_page_soup = bs(category_page)\n",
    "    cateries_news = [a.text for a in bs(requests.get(base_url).text).find(class_=\"widget clearfix widget_categories\").find_all(\"a\")]\n",
    "    liens_categories = [a['href'] for a in bs(requests.get(base_url).text).find(class_=\"widget clearfix widget_categories\").find_all(\"a\")]\n",
    "    # Let's grap all link for all categories news\n",
    "    for lien in liens_categories:\n",
    "        page = parse_url(lien)\n",
    "        for soup in page.find_all(class_=\"entry-title archive-entry-title mt-0\"):\n",
    "            link = soup.find('a')['href']\n",
    "            all_links.append(link)\n",
    "    return cateries_news, liens_categories, all_links\n",
    "\n",
    "cateries_news, liens_categories, links = get_urls(base_url)\n",
    "\n",
    "links[:10]"
   ]
  },
  {
   "cell_type": "markdown",
   "metadata": {},
   "source": [
    "#### Parcours de chaque catégorie, tous ces articles "
   ]
  },
  {
   "cell_type": "code",
   "execution_count": 5,
   "metadata": {},
   "outputs": [],
   "source": [
    "# 2. Data scraper\n",
    "\n",
    "titles = []\n",
    "link_to_content = []\n",
    "textes = []\n",
    "categories = []\n",
    "data = {}\n",
    "def get_data(urls):\n",
    "    '''\n",
    "    input: links of liens_categories\n",
    "    Output: dictionary of title and link to content article converted to df\n",
    "    '''\n",
    "    for url in urls:\n",
    "        \n",
    "        page = parse_url(url)\n",
    "        for soup in page.find_all(class_=\"entry-title archive-entry-title mt-0\"):\n",
    "            categorie = url.split('/')[-2]\n",
    "            t = soup.text.strip()\n",
    "            l = soup.find('a')['href']\n",
    "            titles.append(t)\n",
    "            link_to_content.append(l)\n",
    "            # get text data\n",
    "            content = parse_url(l)\n",
    "            categories.append(categorie)\n",
    "            texte = [a.text for a in content.find(class_ = \"entry-content\").find_all('p')]\n",
    "            textes.append(texte)\n",
    "            # save to dic\n",
    "            data['titles'] = titles\n",
    "            data['link_to_content'] = link_to_content\n",
    "            data['textes'] = textes\n",
    "            data['categories'] = categories\n",
    "            df = pd.DataFrame(data)\n",
    "    return df # A arranger"
   ]
  },
  {
   "cell_type": "code",
   "execution_count": 11,
   "metadata": {},
   "outputs": [],
   "source": [
    "from utils import *\n",
    "from functions import *"
   ]
  },
  {
   "cell_type": "code",
   "execution_count": 13,
   "metadata": {},
   "outputs": [],
   "source": [
    "#df = get_data(liens_categories)\n",
    "df.to_csv('data/origin_df.csv', encoding='utf-8', index = False)"
   ]
  },
  {
   "cell_type": "markdown",
   "metadata": {},
   "source": [
    "## Prepocessing\n",
    "Words tonkenizing"
   ]
  },
  {
   "cell_type": "code",
   "execution_count": 15,
   "metadata": {},
   "outputs": [
    {
     "data": {
      "text/html": [
       "<div>\n",
       "<style scoped>\n",
       "    .dataframe tbody tr th:only-of-type {\n",
       "        vertical-align: middle;\n",
       "    }\n",
       "\n",
       "    .dataframe tbody tr th {\n",
       "        vertical-align: top;\n",
       "    }\n",
       "\n",
       "    .dataframe thead th {\n",
       "        text-align: right;\n",
       "    }\n",
       "</style>\n",
       "<table border=\"1\" class=\"dataframe\">\n",
       "  <thead>\n",
       "    <tr style=\"text-align: right;\">\n",
       "      <th></th>\n",
       "      <th>titles</th>\n",
       "      <th>link_to_content</th>\n",
       "      <th>textes</th>\n",
       "      <th>categories</th>\n",
       "    </tr>\n",
       "  </thead>\n",
       "  <tbody>\n",
       "    <tr>\n",
       "      <th>15</th>\n",
       "      <td>☢️ Allaahu akbar – Yal nanu Yàlla musal</td>\n",
       "      <td>https://saabal.com/%e2%98%a2%ef%b8%8f-allaahu-...</td>\n",
       "      <td>[Partager la publication \"☢️ Allaahu akbar – Y...</td>\n",
       "      <td>gis-gis</td>\n",
       "    </tr>\n",
       "    <tr>\n",
       "      <th>72</th>\n",
       "      <td>Metiital gi ñuy def doomi Afrig yi ca Guwaŋsu</td>\n",
       "      <td>https://saabal.com/metiital-gi-nuy-def-doomi-a...</td>\n",
       "      <td>[Ndaw ya toogal seen i réew ca Siin yékkati na...</td>\n",
       "      <td>politig</td>\n",
       "    </tr>\n",
       "    <tr>\n",
       "      <th>28</th>\n",
       "      <td>Ma tënkal la tuuti ci Saamóori Ture!</td>\n",
       "      <td>https://saabal.com/ma-tenkal-la-tuuti-ci-saamo...</td>\n",
       "      <td>[Niki bisub tay bii 02 suwe 1900, ci la Almaam...</td>\n",
       "      <td>mboor</td>\n",
       "    </tr>\n",
       "    <tr>\n",
       "      <th>9</th>\n",
       "      <td>Koronaawiris baa ngay jeexal nit ñu ñuul ña ca...</td>\n",
       "      <td>https://saabal.com/koronaawiris-baa-ngay-jeexa...</td>\n",
       "      <td>[Bunu sukkandikoo ci AFP, ca ay gox yu bari ca...</td>\n",
       "      <td>bitim-reew</td>\n",
       "    </tr>\n",
       "    <tr>\n",
       "      <th>5</th>\n",
       "      <td>Metiital gi ñuy def doomi Afrig yi ca Guwaŋsu</td>\n",
       "      <td>https://saabal.com/metiital-gi-nuy-def-doomi-a...</td>\n",
       "      <td>[Ndaw ya toogal seen i réew ca Siin yékkati na...</td>\n",
       "      <td>bitim-reew</td>\n",
       "    </tr>\n",
       "    <tr>\n",
       "      <th>86</th>\n",
       "      <td>Taskatu xibaar  bii di Seex Faal Mooy indi ay ...</td>\n",
       "      <td>https://saabal.com/taskatu-xibaar-bii-di-seex-...</td>\n",
       "      <td>[Partager la publication \"Taskatu xibaar  bii ...</td>\n",
       "      <td>widewo-ndeggat</td>\n",
       "    </tr>\n",
       "    <tr>\n",
       "      <th>71</th>\n",
       "      <td>Saytug koppar gi jëm ci xeex koronaawiris bi –...</td>\n",
       "      <td>https://saabal.com/saytug-koppar-gi-jem-ci-xee...</td>\n",
       "      <td>[Seneraal Faraasuwaa Njaay moom lañu tabb ngir...</td>\n",
       "      <td>politig</td>\n",
       "    </tr>\n",
       "  </tbody>\n",
       "</table>\n",
       "</div>"
      ],
      "text/plain": [
       "                                               titles                                    link_to_content                                             textes      categories\n",
       "15            ☢️ Allaahu akbar – Yal nanu Yàlla musal  https://saabal.com/%e2%98%a2%ef%b8%8f-allaahu-...  [Partager la publication \"☢️ Allaahu akbar – Y...         gis-gis\n",
       "72      Metiital gi ñuy def doomi Afrig yi ca Guwaŋsu  https://saabal.com/metiital-gi-nuy-def-doomi-a...  [Ndaw ya toogal seen i réew ca Siin yékkati na...         politig\n",
       "28               Ma tënkal la tuuti ci Saamóori Ture!  https://saabal.com/ma-tenkal-la-tuuti-ci-saamo...  [Niki bisub tay bii 02 suwe 1900, ci la Almaam...           mboor\n",
       "9   Koronaawiris baa ngay jeexal nit ñu ñuul ña ca...  https://saabal.com/koronaawiris-baa-ngay-jeexa...  [Bunu sukkandikoo ci AFP, ca ay gox yu bari ca...      bitim-reew\n",
       "5       Metiital gi ñuy def doomi Afrig yi ca Guwaŋsu  https://saabal.com/metiital-gi-nuy-def-doomi-a...  [Ndaw ya toogal seen i réew ca Siin yékkati na...      bitim-reew\n",
       "86  Taskatu xibaar  bii di Seex Faal Mooy indi ay ...  https://saabal.com/taskatu-xibaar-bii-di-seex-...  [Partager la publication \"Taskatu xibaar  bii ...  widewo-ndeggat\n",
       "71  Saytug koppar gi jëm ci xeex koronaawiris bi –...  https://saabal.com/saytug-koppar-gi-jem-ci-xee...  [Seneraal Faraasuwaa Njaay moom lañu tabb ngir...         politig"
      ]
     },
     "execution_count": 15,
     "metadata": {},
     "output_type": "execute_result"
    }
   ],
   "source": [
    "df.sample(7, random_state=1456)"
   ]
  },
  {
   "cell_type": "code",
   "execution_count": null,
   "metadata": {},
   "outputs": [],
   "source": []
  }
 ],
 "metadata": {
  "kernelspec": {
   "display_name": "Python 3",
   "language": "python",
   "name": "python3"
  },
  "language_info": {
   "codemirror_mode": {
    "name": "ipython",
    "version": 3
   },
   "file_extension": ".py",
   "mimetype": "text/x-python",
   "name": "python",
   "nbconvert_exporter": "python",
   "pygments_lexer": "ipython3",
   "version": "3.7.6"
  }
 },
 "nbformat": 4,
 "nbformat_minor": 4
}
